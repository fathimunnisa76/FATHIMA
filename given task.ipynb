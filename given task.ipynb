{
 "cells": [
  {
   "cell_type": "code",
   "execution_count": 1,
   "id": "600c7d75",
   "metadata": {},
   "outputs": [],
   "source": [
    "name=\"Mohammad Fathimunnisa\"\n",
    "age=17\n",
    "gender='female'\n",
    "qualification='Intermediate'\n",
    "location=\"patanpet\"\n",
    "git_repo_name=\"fathimunnisa76\"\n",
    "hobbies=['playing games',\"making crafts\"]\n",
    "best_friends_names={\"neelu\",\"santhoshi\",\"anjali\",\"sirisha\",\"sharmila\",\"kusuma sree\",\"nasheena\",\"sukeerthi\",\"sree sudha\"}\n"
   ]
  },
  {
   "cell_type": "code",
   "execution_count": 2,
   "id": "aac32406",
   "metadata": {},
   "outputs": [
    {
     "name": "stdout",
     "output_type": "stream",
     "text": [
      "Mohammad Fathimunnisa\n"
     ]
    }
   ],
   "source": [
    "print(name)"
   ]
  },
  {
   "cell_type": "code",
   "execution_count": 3,
   "id": "8d572464",
   "metadata": {},
   "outputs": [
    {
     "name": "stdout",
     "output_type": "stream",
     "text": [
      "17\n"
     ]
    }
   ],
   "source": [
    "print(age)"
   ]
  },
  {
   "cell_type": "code",
   "execution_count": 4,
   "id": "7ce5839b",
   "metadata": {},
   "outputs": [
    {
     "name": "stdout",
     "output_type": "stream",
     "text": [
      "female\n"
     ]
    }
   ],
   "source": [
    "print(gender)"
   ]
  },
  {
   "cell_type": "code",
   "execution_count": 5,
   "id": "4ec62d18",
   "metadata": {},
   "outputs": [
    {
     "name": "stdout",
     "output_type": "stream",
     "text": [
      "Intermediate\n"
     ]
    }
   ],
   "source": [
    "print(qualification)"
   ]
  },
  {
   "cell_type": "code",
   "execution_count": 7,
   "id": "b1ce5166",
   "metadata": {},
   "outputs": [
    {
     "name": "stdout",
     "output_type": "stream",
     "text": [
      "patanpet\n"
     ]
    }
   ],
   "source": [
    "print(location)"
   ]
  },
  {
   "cell_type": "code",
   "execution_count": 8,
   "id": "5a313ce6",
   "metadata": {},
   "outputs": [
    {
     "name": "stdout",
     "output_type": "stream",
     "text": [
      "fathimunnisa76\n"
     ]
    }
   ],
   "source": [
    "print(git_repo_name)"
   ]
  },
  {
   "cell_type": "code",
   "execution_count": 9,
   "id": "8433795b",
   "metadata": {},
   "outputs": [
    {
     "name": "stdout",
     "output_type": "stream",
     "text": [
      "['playing games', 'making crafts']\n"
     ]
    }
   ],
   "source": [
    "print(hobbies)"
   ]
  },
  {
   "cell_type": "code",
   "execution_count": 10,
   "id": "130c6ba8",
   "metadata": {},
   "outputs": [
    {
     "ename": "NameError",
     "evalue": "name 'best_freinds' is not defined",
     "output_type": "error",
     "traceback": [
      "\u001b[1;31m---------------------------------------------------------------------------\u001b[0m",
      "\u001b[1;31mNameError\u001b[0m                                 Traceback (most recent call last)",
      "Cell \u001b[1;32mIn[10], line 1\u001b[0m\n\u001b[1;32m----> 1\u001b[0m \u001b[38;5;28mprint\u001b[39m(\u001b[43mbest_freinds\u001b[49m)\n",
      "\u001b[1;31mNameError\u001b[0m: name 'best_freinds' is not defined"
     ]
    }
   ],
   "source": [
    "print(best_freinds)"
   ]
  },
  {
   "cell_type": "code",
   "execution_count": 11,
   "id": "217cce9b",
   "metadata": {},
   "outputs": [
    {
     "name": "stdout",
     "output_type": "stream",
     "text": [
      "{'sharmila', 'santhoshi', 'nasheena', 'sree sudha', 'sukeerthi', 'anjali', 'kusuma sree', 'sirisha', 'neelu'}\n"
     ]
    }
   ],
   "source": [
    "print(best_friends_names)"
   ]
  }
 ],
 "metadata": {
  "kernelspec": {
   "display_name": "Python 3 (ipykernel)",
   "language": "python",
   "name": "python3"
  },
  "language_info": {
   "codemirror_mode": {
    "name": "ipython",
    "version": 3
   },
   "file_extension": ".py",
   "mimetype": "text/x-python",
   "name": "python",
   "nbconvert_exporter": "python",
   "pygments_lexer": "ipython3",
   "version": "3.10.9"
  }
 },
 "nbformat": 4,
 "nbformat_minor": 5
}
